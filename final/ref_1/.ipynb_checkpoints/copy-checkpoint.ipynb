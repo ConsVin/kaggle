{
 "cells": [
  {
   "cell_type": "code",
   "execution_count": null,
   "metadata": {},
   "outputs": [],
   "source": []
  },
  {
   "cell_type": "code",
   "execution_count": null,
   "metadata": {},
   "outputs": [],
   "source": []
  },
  {
   "cell_type": "code",
   "execution_count": null,
   "metadata": {},
   "outputs": [],
   "source": []
  },
  {
   "cell_type": "code",
   "execution_count": null,
   "metadata": {},
   "outputs": [],
   "source": []
  },
  {
   "cell_type": "code",
   "execution_count": 3,
   "metadata": {},
   "outputs": [
    {
     "name": "stdout",
     "output_type": "stream",
     "text": [
      "['item_categories.csv', 'items.csv', 'shops.csv', 'sample_submission.csv', 'test.csv', 'sales_train.csv', 'X_train_all.csv', 'y_train_all.csv', 'X_train.csv']\n"
     ]
    }
   ],
   "source": [
    "# This Python 3 environment comes with many helpful analytics libraries installed\n",
    "# It is defined by the kaggle/python docker image: https://github.com/kaggle/docker-python\n",
    "# For example, here's several helpful packages to load in \n",
    "\n",
    "import numpy as np # linear algebra\n",
    "import pandas as pd # data processing, CSV file I/O (e.g. pd.read_csv)\n",
    "\n",
    "# Input data files are available in the \"../input/\" directory.\n",
    "# For example, running this (by clicking run or pressing Shift+Enter) will list the files in the input directory\n",
    "\n",
    "import os\n",
    "print(os.listdir(\"/opt/extradata/competitive-data-science-predict-future-sales/\"))\n",
    "\n",
    "items_df = pd.read_csv('/opt/extradata/competitive-data-science-predict-future-sales/items.csv')\n",
    "shops_df = pd.read_csv('/opt/extradata/competitive-data-science-predict-future-sales/shops.csv')\n",
    "\n",
    "icats_df = pd.read_csv('/opt/extradata/competitive-data-science-predict-future-sales/item_categories.csv')\n",
    "train_df = pd.read_csv('/opt/extradata/competitive-data-science-predict-future-sales/sales_train.csv', header=0, sep=',', quotechar='\"')\n",
    "smpsb_df = pd.read_csv('/opt/extradata/competitive-data-science-predict-future-sales/sample_submission.csv', header=0, sep=',', quotechar='\"')\n",
    "test_df  = pd.read_csv(r'/opt/extradata/competitive-data-science-predict-future-sales/test.csv', header=0, sep=',', quotechar='\"')\n",
    "# Any results you write to the current directory are saved as output.'''"
   ]
  },
  {
   "cell_type": "code",
   "execution_count": 4,
   "metadata": {},
   "outputs": [
    {
     "name": "stderr",
     "output_type": "stream",
     "text": [
      "Using TensorFlow backend.\n"
     ]
    }
   ],
   "source": [
    "import numpy as np\n",
    "import time\n",
    "start_time = time.time()\n",
    "import gc\n",
    "from tqdm import tqdm\n",
    "import warnings\n",
    "warnings.filterwarnings('ignore')\n",
    "from itertools import product\n",
    "from sklearn.preprocessing import LabelEncoder\n",
    "from sklearn.model_selection import KFold\n",
    "from sklearn.preprocessing import StandardScaler\n",
    "from sklearn.metrics import mean_squared_error\n",
    "from math import sqrt\n",
    "from sklearn.linear_model import (LinearRegression,SGDRegressor)\n",
    "import lightgbm as lgb\n",
    "from keras.models import Sequential\n",
    "from keras.layers import Dense\n",
    "from keras.wrappers.scikit_learn import KerasRegressor"
   ]
  },
  {
   "cell_type": "code",
   "execution_count": 5,
   "metadata": {},
   "outputs": [
    {
     "data": {
      "text/html": [
       "<div>\n",
       "<style scoped>\n",
       "    .dataframe tbody tr th:only-of-type {\n",
       "        vertical-align: middle;\n",
       "    }\n",
       "\n",
       "    .dataframe tbody tr th {\n",
       "        vertical-align: top;\n",
       "    }\n",
       "\n",
       "    .dataframe thead th {\n",
       "        text-align: right;\n",
       "    }\n",
       "</style>\n",
       "<table border=\"1\" class=\"dataframe\">\n",
       "  <thead>\n",
       "    <tr style=\"text-align: right;\">\n",
       "      <th></th>\n",
       "      <th>item_category_name</th>\n",
       "      <th>item_category_id</th>\n",
       "      <th>cats</th>\n",
       "    </tr>\n",
       "  </thead>\n",
       "  <tbody>\n",
       "    <tr>\n",
       "      <th>0</th>\n",
       "      <td>PC - Гарнитуры/Наушники</td>\n",
       "      <td>0</td>\n",
       "      <td>PC - Гарнитуры/Наушники</td>\n",
       "    </tr>\n",
       "    <tr>\n",
       "      <th>1</th>\n",
       "      <td>Аксессуары - PS2</td>\n",
       "      <td>1</td>\n",
       "      <td>Access</td>\n",
       "    </tr>\n",
       "    <tr>\n",
       "      <th>2</th>\n",
       "      <td>Аксессуары - PS3</td>\n",
       "      <td>2</td>\n",
       "      <td>Access</td>\n",
       "    </tr>\n",
       "    <tr>\n",
       "      <th>3</th>\n",
       "      <td>Аксессуары - PS4</td>\n",
       "      <td>3</td>\n",
       "      <td>Access</td>\n",
       "    </tr>\n",
       "    <tr>\n",
       "      <th>4</th>\n",
       "      <td>Аксессуары - PSP</td>\n",
       "      <td>4</td>\n",
       "      <td>Access</td>\n",
       "    </tr>\n",
       "  </tbody>\n",
       "</table>\n",
       "</div>"
      ],
      "text/plain": [
       "        item_category_name  item_category_id                     cats\n",
       "0  PC - Гарнитуры/Наушники                 0  PC - Гарнитуры/Наушники\n",
       "1         Аксессуары - PS2                 1                   Access\n",
       "2         Аксессуары - PS3                 2                   Access\n",
       "3         Аксессуары - PS4                 3                   Access\n",
       "4         Аксессуары - PSP                 4                   Access"
      ]
     },
     "execution_count": 5,
     "metadata": {},
     "output_type": "execute_result"
    }
   ],
   "source": [
    "l = list(icats_df.item_category_name)\n",
    "l_cat = l\n",
    "\n",
    "for ind in range(1,8):\n",
    "    l_cat[ind] = 'Access'\n",
    "\n",
    "for ind in range(10,18):\n",
    "    l_cat[ind] = 'Consoles'\n",
    "\n",
    "for ind in range(18,25):\n",
    "    l_cat[ind] = 'Consoles Games'\n",
    "\n",
    "for ind in range(26,28):\n",
    "    l_cat[ind] = 'phone games'\n",
    "\n",
    "for ind in range(28,32):\n",
    "    l_cat[ind] = 'CD games'\n",
    "\n",
    "for ind in range(32,37):\n",
    "    l_cat[ind] = 'Card'\n",
    "\n",
    "for ind in range(37,43):\n",
    "    l_cat[ind] = 'Movie'\n",
    "\n",
    "for ind in range(43,55):\n",
    "    l_cat[ind] = 'Books'\n",
    "\n",
    "for ind in range(55,61):\n",
    "    l_cat[ind] = 'Music'\n",
    "\n",
    "for ind in range(61,73):\n",
    "    l_cat[ind] = 'Gifts'\n",
    "\n",
    "for ind in range(73,79):\n",
    "    l_cat[ind] = 'Soft'\n",
    "\n",
    "\n",
    "icats_df['cats'] = l_cat\n",
    "icats_df.head()"
   ]
  },
  {
   "cell_type": "code",
   "execution_count": 6,
   "metadata": {},
   "outputs": [
    {
     "data": {
      "text/html": [
       "<div>\n",
       "<style scoped>\n",
       "    .dataframe tbody tr th:only-of-type {\n",
       "        vertical-align: middle;\n",
       "    }\n",
       "\n",
       "    .dataframe tbody tr th {\n",
       "        vertical-align: top;\n",
       "    }\n",
       "\n",
       "    .dataframe thead th {\n",
       "        text-align: right;\n",
       "    }\n",
       "</style>\n",
       "<table border=\"1\" class=\"dataframe\">\n",
       "  <thead>\n",
       "    <tr style=\"text-align: right;\">\n",
       "      <th></th>\n",
       "      <th>item_id</th>\n",
       "      <th>cats</th>\n",
       "    </tr>\n",
       "  </thead>\n",
       "  <tbody>\n",
       "    <tr>\n",
       "      <th>0</th>\n",
       "      <td>0</td>\n",
       "      <td>Movie</td>\n",
       "    </tr>\n",
       "    <tr>\n",
       "      <th>1</th>\n",
       "      <td>1</td>\n",
       "      <td>Soft</td>\n",
       "    </tr>\n",
       "    <tr>\n",
       "      <th>2</th>\n",
       "      <td>2</td>\n",
       "      <td>Movie</td>\n",
       "    </tr>\n",
       "    <tr>\n",
       "      <th>3</th>\n",
       "      <td>3</td>\n",
       "      <td>Movie</td>\n",
       "    </tr>\n",
       "    <tr>\n",
       "      <th>4</th>\n",
       "      <td>4</td>\n",
       "      <td>Movie</td>\n",
       "    </tr>\n",
       "  </tbody>\n",
       "</table>\n",
       "</div>"
      ],
      "text/plain": [
       "   item_id   cats\n",
       "0        0  Movie\n",
       "1        1   Soft\n",
       "2        2  Movie\n",
       "3        3  Movie\n",
       "4        4  Movie"
      ]
     },
     "execution_count": 6,
     "metadata": {},
     "output_type": "execute_result"
    }
   ],
   "source": [
    "items_df = pd.merge(items_df, icats_df, on=['item_category_id'], how='left')\n",
    "items_df = items_df[['item_id', 'cats']]\n",
    "items_df.head()"
   ]
  },
  {
   "cell_type": "code",
   "execution_count": 7,
   "metadata": {},
   "outputs": [
    {
     "name": "stdout",
     "output_type": "stream",
     "text": [
      "Do all the shop ids in test data appear in train data? True\n",
      "(5100,)\n",
      "(42,)\n",
      "(21807,)\n",
      "Do all the item ids in test data appear in train data?  False\n"
     ]
    }
   ],
   "source": [
    "import matplotlib.pyplot as plt\n",
    "%matplotlib inline\n",
    "print('Do all the shop ids in test data appear in train data?',set(test_df.shop_id.unique()) < set(train_df.shop_id.unique()))\n",
    "print(test_df.item_id.unique().shape)\n",
    "print(test_df.shop_id.unique().shape)\n",
    "assert 5100 * 42 == len(test_df)\n",
    "print(train_df.item_id.unique().shape)\n",
    "print('Do all the item ids in test data appear in train data? ',set(test_df.item_id.unique()) < set(train_df.item_id.unique()))"
   ]
  },
  {
   "cell_type": "code",
   "execution_count": 8,
   "metadata": {},
   "outputs": [
    {
     "data": {
      "text/plain": [
       "<matplotlib.axes._subplots.AxesSubplot at 0x7fdfcebda8d0>"
      ]
     },
     "execution_count": 8,
     "metadata": {},
     "output_type": "execute_result"
    },
    {
     "data": {
      "image/png": "[encoded data removed]",
      "text/plain": [
       "<Figure size 432x288 with 1 Axes>"
      ]
     },
     "metadata": {},
     "output_type": "display_data"
    }
   ],
   "source": [
    "train_df.item_price.plot.hist(bins=10)"
   ]
  },
  {
   "cell_type": "code",
   "execution_count": 9,
   "metadata": {},
   "outputs": [
    {
     "data": {
      "text/html": [
       "<div>\n",
       "<style scoped>\n",
       "    .dataframe tbody tr th:only-of-type {\n",
       "        vertical-align: middle;\n",
       "    }\n",
       "\n",
       "    .dataframe tbody tr th {\n",
       "        vertical-align: top;\n",
       "    }\n",
       "\n",
       "    .dataframe thead th {\n",
       "        text-align: right;\n",
       "    }\n",
       "</style>\n",
       "<table border=\"1\" class=\"dataframe\">\n",
       "  <thead>\n",
       "    <tr style=\"text-align: right;\">\n",
       "      <th></th>\n",
       "      <th>date_block_num</th>\n",
       "      <th>shop_id</th>\n",
       "      <th>item_id</th>\n",
       "      <th>item_price</th>\n",
       "      <th>item_cnt_day</th>\n",
       "    </tr>\n",
       "  </thead>\n",
       "  <tbody>\n",
       "    <tr>\n",
       "      <th>count</th>\n",
       "      <td>2.935846e+06</td>\n",
       "      <td>2.935846e+06</td>\n",
       "      <td>2.935846e+06</td>\n",
       "      <td>2.935846e+06</td>\n",
       "      <td>2.935846e+06</td>\n",
       "    </tr>\n",
       "    <tr>\n",
       "      <th>mean</th>\n",
       "      <td>1.456990e+01</td>\n",
       "      <td>3.300175e+01</td>\n",
       "      <td>1.019722e+04</td>\n",
       "      <td>8.907492e+02</td>\n",
       "      <td>1.241562e+00</td>\n",
       "    </tr>\n",
       "    <tr>\n",
       "      <th>std</th>\n",
       "      <td>9.422985e+00</td>\n",
       "      <td>1.622697e+01</td>\n",
       "      <td>6.324297e+03</td>\n",
       "      <td>1.720491e+03</td>\n",
       "      <td>2.217636e+00</td>\n",
       "    </tr>\n",
       "    <tr>\n",
       "      <th>min</th>\n",
       "      <td>0.000000e+00</td>\n",
       "      <td>0.000000e+00</td>\n",
       "      <td>0.000000e+00</td>\n",
       "      <td>-1.000000e+00</td>\n",
       "      <td>-2.200000e+01</td>\n",
       "    </tr>\n",
       "    <tr>\n",
       "      <th>25%</th>\n",
       "      <td>7.000000e+00</td>\n",
       "      <td>2.200000e+01</td>\n",
       "      <td>4.476000e+03</td>\n",
       "      <td>2.490000e+02</td>\n",
       "      <td>1.000000e+00</td>\n",
       "    </tr>\n",
       "    <tr>\n",
       "      <th>50%</th>\n",
       "      <td>1.400000e+01</td>\n",
       "      <td>3.100000e+01</td>\n",
       "      <td>9.343000e+03</td>\n",
       "      <td>3.990000e+02</td>\n",
       "      <td>1.000000e+00</td>\n",
       "    </tr>\n",
       "    <tr>\n",
       "      <th>75%</th>\n",
       "      <td>2.300000e+01</td>\n",
       "      <td>4.700000e+01</td>\n",
       "      <td>1.568400e+04</td>\n",
       "      <td>9.990000e+02</td>\n",
       "      <td>1.000000e+00</td>\n",
       "    </tr>\n",
       "    <tr>\n",
       "      <th>max</th>\n",
       "      <td>3.300000e+01</td>\n",
       "      <td>5.900000e+01</td>\n",
       "      <td>2.216900e+04</td>\n",
       "      <td>5.920000e+04</td>\n",
       "      <td>6.690000e+02</td>\n",
       "    </tr>\n",
       "  </tbody>\n",
       "</table>\n",
       "</div>"
      ],
      "text/plain": [
       "       date_block_num       shop_id       item_id    item_price  item_cnt_day\n",
       "count    2.935846e+06  2.935846e+06  2.935846e+06  2.935846e+06  2.935846e+06\n",
       "mean     1.456990e+01  3.300175e+01  1.019722e+04  8.907492e+02  1.241562e+00\n",
       "std      9.422985e+00  1.622697e+01  6.324297e+03  1.720491e+03  2.217636e+00\n",
       "min      0.000000e+00  0.000000e+00  0.000000e+00 -1.000000e+00 -2.200000e+01\n",
       "25%      7.000000e+00  2.200000e+01  4.476000e+03  2.490000e+02  1.000000e+00\n",
       "50%      1.400000e+01  3.100000e+01  9.343000e+03  3.990000e+02  1.000000e+00\n",
       "75%      2.300000e+01  4.700000e+01  1.568400e+04  9.990000e+02  1.000000e+00\n",
       "max      3.300000e+01  5.900000e+01  2.216900e+04  5.920000e+04  6.690000e+02"
      ]
     },
     "execution_count": 9,
     "metadata": {},
     "output_type": "execute_result"
    }
   ],
   "source": [
    "# Remove Outliers\n",
    "train_df = train_df[train_df['item_price'] < 100000]\n",
    "train_df = train_df[train_df['item_cnt_day'] < 1000]\n",
    "train_df.describe()"
   ]
  },
  {
   "cell_type": "code",
   "execution_count": 10,
   "metadata": {},
   "outputs": [
    {
     "data": {
      "text/html": [
       "<div>\n",
       "<style scoped>\n",
       "    .dataframe tbody tr th:only-of-type {\n",
       "        vertical-align: middle;\n",
       "    }\n",
       "\n",
       "    .dataframe tbody tr th {\n",
       "        vertical-align: top;\n",
       "    }\n",
       "\n",
       "    .dataframe thead th {\n",
       "        text-align: right;\n",
       "    }\n",
       "</style>\n",
       "<table border=\"1\" class=\"dataframe\">\n",
       "  <thead>\n",
       "    <tr style=\"text-align: right;\">\n",
       "      <th></th>\n",
       "      <th>shop_id</th>\n",
       "      <th>item_id</th>\n",
       "      <th>date_block_num</th>\n",
       "      <th>item_cnt_month</th>\n",
       "      <th>item_price</th>\n",
       "    </tr>\n",
       "  </thead>\n",
       "  <tbody>\n",
       "    <tr>\n",
       "      <th>count</th>\n",
       "      <td>1.091380e+07</td>\n",
       "      <td>1.091380e+07</td>\n",
       "      <td>1.091380e+07</td>\n",
       "      <td>1.609122e+06</td>\n",
       "      <td>1.609122e+06</td>\n",
       "    </tr>\n",
       "    <tr>\n",
       "      <th>mean</th>\n",
       "      <td>3.118720e+01</td>\n",
       "      <td>1.130929e+04</td>\n",
       "      <td>1.497336e+01</td>\n",
       "      <td>2.265233e+00</td>\n",
       "      <td>7.906943e+02</td>\n",
       "    </tr>\n",
       "    <tr>\n",
       "      <th>std</th>\n",
       "      <td>1.734959e+01</td>\n",
       "      <td>6.209982e+03</td>\n",
       "      <td>9.495635e+00</td>\n",
       "      <td>8.429583e+00</td>\n",
       "      <td>1.532592e+03</td>\n",
       "    </tr>\n",
       "    <tr>\n",
       "      <th>min</th>\n",
       "      <td>0.000000e+00</td>\n",
       "      <td>0.000000e+00</td>\n",
       "      <td>0.000000e+00</td>\n",
       "      <td>-2.200000e+01</td>\n",
       "      <td>9.000000e-02</td>\n",
       "    </tr>\n",
       "    <tr>\n",
       "      <th>25%</th>\n",
       "      <td>1.600000e+01</td>\n",
       "      <td>5.976000e+03</td>\n",
       "      <td>7.000000e+00</td>\n",
       "      <td>1.000000e+00</td>\n",
       "      <td>1.990000e+02</td>\n",
       "    </tr>\n",
       "    <tr>\n",
       "      <th>50%</th>\n",
       "      <td>3.000000e+01</td>\n",
       "      <td>1.139100e+04</td>\n",
       "      <td>1.400000e+01</td>\n",
       "      <td>1.000000e+00</td>\n",
       "      <td>3.990000e+02</td>\n",
       "    </tr>\n",
       "    <tr>\n",
       "      <th>75%</th>\n",
       "      <td>4.600000e+01</td>\n",
       "      <td>1.660500e+04</td>\n",
       "      <td>2.300000e+01</td>\n",
       "      <td>2.000000e+00</td>\n",
       "      <td>8.985000e+02</td>\n",
       "    </tr>\n",
       "    <tr>\n",
       "      <th>max</th>\n",
       "      <td>5.900000e+01</td>\n",
       "      <td>2.216900e+04</td>\n",
       "      <td>3.300000e+01</td>\n",
       "      <td>1.644000e+03</td>\n",
       "      <td>5.099900e+04</td>\n",
       "    </tr>\n",
       "  </tbody>\n",
       "</table>\n",
       "</div>"
      ],
      "text/plain": [
       "            shop_id       item_id  date_block_num  item_cnt_month  \\\n",
       "count  1.091380e+07  1.091380e+07    1.091380e+07    1.609122e+06   \n",
       "mean   3.118720e+01  1.130929e+04    1.497336e+01    2.265233e+00   \n",
       "std    1.734959e+01  6.209982e+03    9.495635e+00    8.429583e+00   \n",
       "min    0.000000e+00  0.000000e+00    0.000000e+00   -2.200000e+01   \n",
       "25%    1.600000e+01  5.976000e+03    7.000000e+00    1.000000e+00   \n",
       "50%    3.000000e+01  1.139100e+04    1.400000e+01    1.000000e+00   \n",
       "75%    4.600000e+01  1.660500e+04    2.300000e+01    2.000000e+00   \n",
       "max    5.900000e+01  2.216900e+04    3.300000e+01    1.644000e+03   \n",
       "\n",
       "         item_price  \n",
       "count  1.609122e+06  \n",
       "mean   7.906943e+02  \n",
       "std    1.532592e+03  \n",
       "min    9.000000e-02  \n",
       "25%    1.990000e+02  \n",
       "50%    3.990000e+02  \n",
       "75%    8.985000e+02  \n",
       "max    5.099900e+04  "
      ]
     },
     "execution_count": 10,
     "metadata": {},
     "output_type": "execute_result"
    }
   ],
   "source": [
    "#aggregating data\n",
    "from itertools import product\n",
    "index_cols = ['shop_id', 'item_id', 'date_block_num']\n",
    "grid = []\n",
    "for block_num in train_df['date_block_num'].unique():\n",
    "    cur_shops = train_df.loc[train_df['date_block_num'] == block_num,\n",
    "                             'shop_id'].unique()\n",
    "    cur_items = train_df.loc[train_df['date_block_num'] == block_num,\n",
    "                             'item_id'].unique()\n",
    "    grid.append(np.array(list(product(*[cur_shops, cur_items, \n",
    "                                        [block_num]])),dtype='int32'))\n",
    "grid = pd.DataFrame(np.vstack(grid), columns = index_cols,dtype=np.int32)\n",
    "\n",
    "train_df = train_df.groupby(['date_block_num','shop_id','item_id']).agg(\n",
    "    {'item_cnt_day': np.sum, 'item_price': np.mean}).reset_index()\n",
    "\n",
    "train_df.rename(index=str,columns={'item_cnt_day': 'item_cnt_month'},inplace=True)\n",
    "\n",
    "train_df = pd.merge(grid, train_df, on=index_cols, how='left')\n",
    "train_df.describe()"
   ]
  },
  {
   "cell_type": "code",
   "execution_count": 11,
   "metadata": {},
   "outputs": [
    {
     "data": {
      "text/plain": [
       "<matplotlib.axes._subplots.AxesSubplot at 0x7fdfcd283d30>"
      ]
     },
     "execution_count": 11,
     "metadata": {},
     "output_type": "execute_result"
    },
    {
     "data": {
      "image/png": "[encoded data removed]",
      "text/plain": [
       "<Figure size 432x288 with 1 Axes>"
      ]
     },
     "metadata": {},
     "output_type": "display_data"
    }
   ],
   "source": [
    "train_df.item_cnt_month.plot.hist()"
   ]
  },
  {
   "cell_type": "code",
   "execution_count": 12,
   "metadata": {},
   "outputs": [
    {
     "data": {
      "text/plain": [
       "True"
      ]
     },
     "execution_count": 12,
     "metadata": {},
     "output_type": "execute_result"
    }
   ],
   "source": [
    "# Add category id to each data point\n",
    "train_df = pd.merge(train_df, items_df, on=['item_id'], how='left')\n",
    "test_df = pd.merge(test_df, items_df, on=['item_id'], how='left')\n",
    "set(test_df.cats.unique()) < set(train_df.cats.unique())"
   ]
  },
  {
   "cell_type": "code",
   "execution_count": 13,
   "metadata": {},
   "outputs": [],
   "source": [
    "# Mean encoding\n",
    "for type_ids in [['item_id'], ['shop_id'], ['cats'], ['item_id', 'shop_id']]:\n",
    "    for column_id in ['item_price', 'item_cnt_month']:\n",
    "        mean_df = train_df[type_ids + [column_id]].groupby(type_ids).agg(np.mean).reset_index()\n",
    "        mean_df.rename(\n",
    "            {column_id: \"mean_of_\"+column_id+\"_groupby_\"+\"_\".join(type_ids)},\n",
    "            axis='columns', inplace=True\n",
    "        )\n",
    "        \n",
    "        train_df = pd.merge(train_df, mean_df, on=type_ids, how='left')\n",
    "        test_df = pd.merge(test_df, mean_df, on=type_ids, how='left')"
   ]
  },
  {
   "cell_type": "code",
   "execution_count": 14,
   "metadata": {},
   "outputs": [
    {
     "data": {
      "text/plain": [
       "Index(['shop_id', 'item_id', 'date_block_num', 'item_cnt_month', 'item_price',\n",
       "       'cats', 'mean_of_item_price_groupby_item_id',\n",
       "       'mean_of_item_cnt_month_groupby_item_id',\n",
       "       'mean_of_item_price_groupby_shop_id',\n",
       "       'mean_of_item_cnt_month_groupby_shop_id',\n",
       "       'mean_of_item_price_groupby_cats',\n",
       "       'mean_of_item_cnt_month_groupby_cats',\n",
       "       'mean_of_item_price_groupby_item_id_shop_id',\n",
       "       'mean_of_item_cnt_month_groupby_item_id_shop_id'],\n",
       "      dtype='object')"
      ]
     },
     "execution_count": 14,
     "metadata": {},
     "output_type": "execute_result"
    }
   ],
   "source": [
    "# Fill NA\n",
    "test_df['mean_of_item_price_groupby_item_id'] = test_df['mean_of_item_price_groupby_item_id'].fillna(test_df['mean_of_item_price_groupby_cats'])\n",
    "test_df['mean_of_item_cnt_month_groupby_item_id'] = test_df['mean_of_item_cnt_month_groupby_item_id'].fillna(test_df['mean_of_item_cnt_month_groupby_cats'])\n",
    "test_df['mean_of_item_price_groupby_item_id_shop_id'] = test_df['mean_of_item_price_groupby_item_id_shop_id'].fillna(test_df['mean_of_item_price_groupby_item_id'])\n",
    "test_df['mean_of_item_cnt_month_groupby_item_id_shop_id'] = test_df['mean_of_item_cnt_month_groupby_item_id_shop_id'].fillna(test_df['mean_of_item_cnt_month_groupby_item_id'])\n",
    "\n",
    "train_df['mean_of_item_price_groupby_item_id_shop_id'] = train_df['mean_of_item_price_groupby_item_id_shop_id'].fillna(train_df['mean_of_item_price_groupby_item_id'])\n",
    "train_df['mean_of_item_cnt_month_groupby_item_id_shop_id'] = train_df['mean_of_item_cnt_month_groupby_item_id_shop_id'].fillna(train_df['mean_of_item_cnt_month_groupby_item_id'])\n",
    "\n",
    "train_df.columns"
   ]
  },
  {
   "cell_type": "code",
   "execution_count": 15,
   "metadata": {},
   "outputs": [
    {
     "data": {
      "text/plain": [
       "Index(['shop_id', 'item_id', 'date_block_num', 'item_cnt_month', 'item_price',\n",
       "       'cats', 'mean_of_item_price_groupby_item_id',\n",
       "       'mean_of_item_cnt_month_groupby_item_id',\n",
       "       'mean_of_item_price_groupby_shop_id',\n",
       "       'mean_of_item_cnt_month_groupby_shop_id',\n",
       "       'mean_of_item_price_groupby_cats',\n",
       "       'mean_of_item_cnt_month_groupby_cats',\n",
       "       'mean_of_item_price_groupby_item_id_shop_id',\n",
       "       'mean_of_item_cnt_month_groupby_item_id_shop_id'],\n",
       "      dtype='object')"
      ]
     },
     "execution_count": 15,
     "metadata": {},
     "output_type": "execute_result"
    }
   ],
   "source": [
    "for df in train_df, test_df:\n",
    "    for feat in df.columns[4:]:\n",
    "        if 'item_cnt' in feat:\n",
    "            df[feat]=df[feat].fillna(0)\n",
    "        elif 'item_price' in feat:\n",
    "            df[feat]=df[feat].fillna(df[feat].median())\n",
    "train_df['item_cnt_month'] = train_df['item_cnt_month'].fillna(0)\n",
    "train_df.describe()\n",
    "train_df.columns"
   ]
  },
  {
   "cell_type": "code",
   "execution_count": 16,
   "metadata": {},
   "outputs": [],
   "source": [
    "# Add previous months sales data\n",
    "train_df_temp = train_df.copy()\n",
    "train_df = train_df[train_df['date_block_num']>=12]\n",
    "\n",
    "features = ['item_cnt_month', 'item_price', 'mean_of_item_price_groupby_item_id',\n",
    "       'mean_of_item_cnt_month_groupby_item_id',\n",
    "       'mean_of_item_price_groupby_shop_id',\n",
    "       'mean_of_item_cnt_month_groupby_shop_id',\n",
    "       'mean_of_item_price_groupby_cats',\n",
    "       'mean_of_item_cnt_month_groupby_cats',\n",
    "       'mean_of_item_price_groupby_item_id_shop_id',\n",
    "       'mean_of_item_cnt_month_groupby_item_id_shop_id']\n",
    "\n",
    "def add_historical_data(df):\n",
    "    for diff in (1, 2, 3, 4, 6, 12):\n",
    "        train_df_copy = train_df_temp.copy()\n",
    "        train_df_copy['date_block_num'] += diff\n",
    "        train_df_copy = train_df_copy[['date_block_num', 'item_id', 'shop_id'] + features]\n",
    "        train_df_copy.rename({\n",
    "            feat: feat+\"_\"+str(diff)+'_month_ago' for feat in features\n",
    "        }, axis=1, inplace=True)\n",
    "        df = pd.merge(df, train_df_copy, on=['shop_id', 'item_id', 'date_block_num'], how='left')\n",
    "    return df\n",
    "\n",
    "test_df['date_block_num'] = 34\n",
    "train_df = add_historical_data(train_df)\n",
    "test_df = add_historical_data(test_df)\n",
    "test_df.drop('date_block_num', axis=1, inplace=True)"
   ]
  },
  {
   "cell_type": "code",
   "execution_count": 17,
   "metadata": {},
   "outputs": [
    {
     "data": {
      "text/plain": [
       "Index(['shop_id', 'item_id', 'date_block_num', 'item_cnt_month', 'item_price',\n",
       "       'cats', 'mean_of_item_price_groupby_item_id',\n",
       "       'mean_of_item_cnt_month_groupby_item_id',\n",
       "       'mean_of_item_price_groupby_shop_id',\n",
       "       'mean_of_item_cnt_month_groupby_shop_id',\n",
       "       'mean_of_item_price_groupby_cats',\n",
       "       'mean_of_item_cnt_month_groupby_cats',\n",
       "       'mean_of_item_price_groupby_item_id_shop_id',\n",
       "       'mean_of_item_cnt_month_groupby_item_id_shop_id',\n",
       "       'item_cnt_month_1_month_ago', 'item_price_1_month_ago',\n",
       "       'mean_of_item_price_groupby_item_id_1_month_ago',\n",
       "       'mean_of_item_cnt_month_groupby_item_id_1_month_ago',\n",
       "       'mean_of_item_price_groupby_shop_id_1_month_ago',\n",
       "       'mean_of_item_cnt_month_groupby_shop_id_1_month_ago',\n",
       "       'mean_of_item_price_groupby_cats_1_month_ago',\n",
       "       'mean_of_item_cnt_month_groupby_cats_1_month_ago',\n",
       "       'mean_of_item_price_groupby_item_id_shop_id_1_month_ago',\n",
       "       'mean_of_item_cnt_month_groupby_item_id_shop_id_1_month_ago',\n",
       "       'item_cnt_month_2_month_ago', 'item_price_2_month_ago',\n",
       "       'mean_of_item_price_groupby_item_id_2_month_ago',\n",
       "       'mean_of_item_cnt_month_groupby_item_id_2_month_ago',\n",
       "       'mean_of_item_price_groupby_shop_id_2_month_ago',\n",
       "       'mean_of_item_cnt_month_groupby_shop_id_2_month_ago',\n",
       "       'mean_of_item_price_groupby_cats_2_month_ago',\n",
       "       'mean_of_item_cnt_month_groupby_cats_2_month_ago',\n",
       "       'mean_of_item_price_groupby_item_id_shop_id_2_month_ago',\n",
       "       'mean_of_item_cnt_month_groupby_item_id_shop_id_2_month_ago',\n",
       "       'item_cnt_month_3_month_ago', 'item_price_3_month_ago',\n",
       "       'mean_of_item_price_groupby_item_id_3_month_ago',\n",
       "       'mean_of_item_cnt_month_groupby_item_id_3_month_ago',\n",
       "       'mean_of_item_price_groupby_shop_id_3_month_ago',\n",
       "       'mean_of_item_cnt_month_groupby_shop_id_3_month_ago',\n",
       "       'mean_of_item_price_groupby_cats_3_month_ago',\n",
       "       'mean_of_item_cnt_month_groupby_cats_3_month_ago',\n",
       "       'mean_of_item_price_groupby_item_id_shop_id_3_month_ago',\n",
       "       'mean_of_item_cnt_month_groupby_item_id_shop_id_3_month_ago',\n",
       "       'item_cnt_month_4_month_ago', 'item_price_4_month_ago',\n",
       "       'mean_of_item_price_groupby_item_id_4_month_ago',\n",
       "       'mean_of_item_cnt_month_groupby_item_id_4_month_ago',\n",
       "       'mean_of_item_price_groupby_shop_id_4_month_ago',\n",
       "       'mean_of_item_cnt_month_groupby_shop_id_4_month_ago',\n",
       "       'mean_of_item_price_groupby_cats_4_month_ago',\n",
       "       'mean_of_item_cnt_month_groupby_cats_4_month_ago',\n",
       "       'mean_of_item_price_groupby_item_id_shop_id_4_month_ago',\n",
       "       'mean_of_item_cnt_month_groupby_item_id_shop_id_4_month_ago',\n",
       "       'item_cnt_month_6_month_ago', 'item_price_6_month_ago',\n",
       "       'mean_of_item_price_groupby_item_id_6_month_ago',\n",
       "       'mean_of_item_cnt_month_groupby_item_id_6_month_ago',\n",
       "       'mean_of_item_price_groupby_shop_id_6_month_ago',\n",
       "       'mean_of_item_cnt_month_groupby_shop_id_6_month_ago',\n",
       "       'mean_of_item_price_groupby_cats_6_month_ago',\n",
       "       'mean_of_item_cnt_month_groupby_cats_6_month_ago',\n",
       "       'mean_of_item_price_groupby_item_id_shop_id_6_month_ago',\n",
       "       'mean_of_item_cnt_month_groupby_item_id_shop_id_6_month_ago',\n",
       "       'item_cnt_month_12_month_ago', 'item_price_12_month_ago',\n",
       "       'mean_of_item_price_groupby_item_id_12_month_ago',\n",
       "       'mean_of_item_cnt_month_groupby_item_id_12_month_ago',\n",
       "       'mean_of_item_price_groupby_shop_id_12_month_ago',\n",
       "       'mean_of_item_cnt_month_groupby_shop_id_12_month_ago',\n",
       "       'mean_of_item_price_groupby_cats_12_month_ago',\n",
       "       'mean_of_item_cnt_month_groupby_cats_12_month_ago',\n",
       "       'mean_of_item_price_groupby_item_id_shop_id_12_month_ago',\n",
       "       'mean_of_item_cnt_month_groupby_item_id_shop_id_12_month_ago'],\n",
       "      dtype='object')"
      ]
     },
     "execution_count": 17,
     "metadata": {},
     "output_type": "execute_result"
    }
   ],
   "source": [
    "train_df.columns"
   ]
  },
  {
   "cell_type": "code",
   "execution_count": 18,
   "metadata": {},
   "outputs": [],
   "source": [
    "for df in train_df, test_df:\n",
    "    for feat in train_df.columns[6:]:\n",
    "        if 'item_cnt' in feat:\n",
    "            df[feat]=df[feat].fillna(0)\n",
    "        elif 'item_price' in feat:\n",
    "            df[feat]=df[feat].fillna(df[feat].median())"
   ]
  },
  {
   "cell_type": "code",
   "execution_count": 19,
   "metadata": {},
   "outputs": [],
   "source": [
    "# Add pair-difference features\n",
    "columns = {\n",
    "    'diff_between_item_shop_and_item': ('mean_of_item_price_groupby_item_id_shop_id', 'mean_of_item_price_groupby_item_id'),\n",
    "    'diff_between_item_and_category': ('mean_of_item_price_groupby_item_id', 'mean_of_item_price_groupby_cats')\n",
    "}\n",
    "for new_feature, (col1, col2) in columns.items():\n",
    "    for df in (train_df, test_df):\n",
    "        df[new_feature] = df[col1] - df[col2]\n",
    "\n",
    "\n",
    "# Clip values of the target\n",
    "train_df['item_cnt_month'] = train_df['item_cnt_month'].clip(0, 20)\n",
    "\n",
    "# Split train/valid sets\n",
    "training_set = train_df[train_df['date_block_num']<33]\n",
    "validation_set = train_df[train_df['date_block_num']==33].reset_index()"
   ]
  },
  {
   "cell_type": "code",
   "execution_count": 19,
   "metadata": {},
   "outputs": [
    {
     "name": "stdout",
     "output_type": "stream",
     "text": [
      "The history saving thread hit an unexpected error (OperationalError('database or disk is full',)).History will not be written to the database.\n",
      "rm: cannot remove '/home/kostya/.kaggle/competitions/competitive-data-science-predict-future-sales/test.csv.gz': No such file or directory\n",
      "rm: cannot remove '/home/kostya/.kaggle/competitions/competitive-data-science-predict-future-sales/sales_train.csv.gz': No such file or directory\n",
      "rm: cannot remove '/home/kostya/.kaggle/competitions/competitive-data-science-predict-future-sales/sample_submission.csv.gz': No such file or directory\n"
     ]
    }
   ],
   "source": [
    "!rm /home/kostya/.kaggle/competitions/competitive-data-science-predict-future-sales/test.csv.gz\n",
    "!rm /home/kostya/.kaggle/competitions/competitive-data-science-predict-future-sales/sales_train.csv.gz\n",
    "!rm /home/kostya/.kaggle/competitions/competitive-data-science-predict-future-sales/sample_submission.csv.gz"
   ]
  },
  {
   "cell_type": "code",
   "execution_count": 21,
   "metadata": {},
   "outputs": [],
   "source": [
    "# Keep useful columns and save them to csv files\n",
    "features = train_df.columns[6:].tolist()\n",
    "\n",
    "#train_df[features].to_csv('/opt/extradata/X_train_all.csv', index=False)\n",
    "#train_df['item_cnt_month'].to_csv('/opt/extradata/y_train_all.csv', index=False)\n",
    "X_train = training_set[features]\n",
    "#X_train.to_csv('/opt/extradata/X_train.csv', index=False)\n"
   ]
  },
  {
   "cell_type": "code",
   "execution_count": 22,
   "metadata": {},
   "outputs": [],
   "source": [
    "y_train = training_set['item_cnt_month']\n",
    "#y_train.to_csv('/opt/extradata/y_train.csv', index=False)\n",
    "X_validation = validation_set[features]\n",
    "#X_validation.to_csv('/opt/extradata/X_validation.csv', index=False)\n",
    "y_validation = validation_set['item_cnt_month']\n",
    "#y_validation.to_csv('/opt/extradata/y_validation.csv', index=False)\n",
    "test_df = test_df[['ID'] + features]\n",
    "#test_df.to_csv('/opt/extradata/X_test.csv', index=False)"
   ]
  },
  {
   "cell_type": "code",
   "execution_count": null,
   "metadata": {},
   "outputs": [],
   "source": []
  },
  {
   "cell_type": "code",
   "execution_count": null,
   "metadata": {},
   "outputs": [],
   "source": []
  },
  {
   "cell_type": "code",
   "execution_count": null,
   "metadata": {},
   "outputs": [],
   "source": []
  },
  {
   "cell_type": "code",
   "execution_count": 23,
   "metadata": {},
   "outputs": [
    {
     "name": "stdout",
     "output_type": "stream",
     "text": [
      "[0]\ttrain-rmse:1.15492\tvalidation-rmse:1.10743\n",
      "Multiple eval metrics have been passed: 'validation-rmse' will be used for early stopping.\n",
      "\n",
      "Will train until validation-rmse hasn't improved in 50 rounds.\n",
      "[5]\ttrain-rmse:0.971898\tvalidation-rmse:0.922151\n",
      "[10]\ttrain-rmse:0.874083\tvalidation-rmse:0.831444\n",
      "[15]\ttrain-rmse:0.823044\tvalidation-rmse:0.791707\n",
      "[20]\ttrain-rmse:0.793371\tvalidation-rmse:0.771317\n",
      "[25]\ttrain-rmse:0.77546\tvalidation-rmse:0.760469\n",
      "[30]\ttrain-rmse:0.763586\tvalidation-rmse:0.751787\n",
      "[35]\ttrain-rmse:0.755116\tvalidation-rmse:0.74724\n",
      "[40]\ttrain-rmse:0.748293\tvalidation-rmse:0.747446\n",
      "[45]\ttrain-rmse:0.742555\tvalidation-rmse:0.746655\n",
      "[50]\ttrain-rmse:0.738189\tvalidation-rmse:0.745625\n",
      "[55]\ttrain-rmse:0.73486\tvalidation-rmse:0.745852\n",
      "[60]\ttrain-rmse:0.731731\tvalidation-rmse:0.745471\n",
      "[65]\ttrain-rmse:0.728801\tvalidation-rmse:0.745955\n",
      "[70]\ttrain-rmse:0.725966\tvalidation-rmse:0.746131\n",
      "[75]\ttrain-rmse:0.723056\tvalidation-rmse:0.74522\n",
      "[80]\ttrain-rmse:0.720602\tvalidation-rmse:0.744857\n",
      "[85]\ttrain-rmse:0.718313\tvalidation-rmse:0.74454\n",
      "[90]\ttrain-rmse:0.716501\tvalidation-rmse:0.743286\n",
      "[95]\ttrain-rmse:0.714628\tvalidation-rmse:0.744155\n",
      "[100]\ttrain-rmse:0.713327\tvalidation-rmse:0.743669\n",
      "[105]\ttrain-rmse:0.711738\tvalidation-rmse:0.743004\n",
      "[110]\ttrain-rmse:0.710399\tvalidation-rmse:0.742529\n",
      "[115]\ttrain-rmse:0.709236\tvalidation-rmse:0.742873\n",
      "[120]\ttrain-rmse:0.707866\tvalidation-rmse:0.742887\n",
      "[125]\ttrain-rmse:0.706673\tvalidation-rmse:0.742457\n",
      "[130]\ttrain-rmse:0.705446\tvalidation-rmse:0.742726\n",
      "[135]\ttrain-rmse:0.704008\tvalidation-rmse:0.742454\n",
      "[140]\ttrain-rmse:0.702954\tvalidation-rmse:0.74225\n",
      "[145]\ttrain-rmse:0.702122\tvalidation-rmse:0.74201\n",
      "[150]\ttrain-rmse:0.701082\tvalidation-rmse:0.742585\n",
      "[155]\ttrain-rmse:0.700015\tvalidation-rmse:0.742653\n",
      "[160]\ttrain-rmse:0.699014\tvalidation-rmse:0.743121\n",
      "[165]\ttrain-rmse:0.69759\tvalidation-rmse:0.744109\n",
      "[170]\ttrain-rmse:0.696631\tvalidation-rmse:0.74454\n",
      "[175]\ttrain-rmse:0.695622\tvalidation-rmse:0.744276\n",
      "[180]\ttrain-rmse:0.694456\tvalidation-rmse:0.74467\n",
      "[185]\ttrain-rmse:0.693657\tvalidation-rmse:0.74466\n",
      "[190]\ttrain-rmse:0.692876\tvalidation-rmse:0.7447\n",
      "[195]\ttrain-rmse:0.692171\tvalidation-rmse:0.744844\n",
      "Stopping. Best iteration:\n",
      "[145]\ttrain-rmse:0.702122\tvalidation-rmse:0.74201\n",
      "\n"
     ]
    }
   ],
   "source": [
    "import xgboost as xgb\n",
    "\n",
    "params = {\n",
    "        'eta': 0.08, #best 0.08\n",
    "        'max_depth': 7,\n",
    "        'objective': 'reg:linear',\n",
    "        'eval_metric': 'rmse',\n",
    "        'seed': 3,\n",
    "        'gamma':1,\n",
    "        'silent': True\n",
    "    }\n",
    "X_test = test_df[features]\n",
    "\n",
    "watchlist = [\n",
    "    (xgb.DMatrix(data=X_train, label=y_train), 'train'),\n",
    "    (xgb.DMatrix(data=X_validation, label=y_validation), 'validation')\n",
    "]\n",
    "model = xgb.train(params, xgb.DMatrix(data=X_train,label= y_train,missing=-999), 500,  watchlist,\n",
    "                  maximize=False, verbose_eval=5, early_stopping_rounds=50)"
   ]
  },
  {
   "cell_type": "code",
   "execution_count": 24,
   "metadata": {},
   "outputs": [
    {
     "name": "stdout",
     "output_type": "stream",
     "text": [
      "[0]\ttrain-rmse:1.15492\tvalidation-rmse:1.10743\n",
      "Multiple eval metrics have been passed: 'validation-rmse' will be used for early stopping.\n",
      "\n",
      "Will train until validation-rmse hasn't improved in 50 rounds.\n",
      "[50]\ttrain-rmse:0.738189\tvalidation-rmse:0.745625\n",
      "[100]\ttrain-rmse:0.713327\tvalidation-rmse:0.743669\n",
      "[150]\ttrain-rmse:0.701082\tvalidation-rmse:0.742585\n",
      "Stopping. Best iteration:\n",
      "[145]\ttrain-rmse:0.702122\tvalidation-rmse:0.74201\n",
      "\n",
      "[0]\ttrain-rmse:1.1521\tvalidation-rmse:1.10366\n",
      "Multiple eval metrics have been passed: 'validation-rmse' will be used for early stopping.\n",
      "\n",
      "Will train until validation-rmse hasn't improved in 50 rounds.\n",
      "[50]\ttrain-rmse:0.719464\tvalidation-rmse:0.739758\n",
      "[100]\ttrain-rmse:0.693261\tvalidation-rmse:0.742619\n",
      "Stopping. Best iteration:\n",
      "[50]\ttrain-rmse:0.719464\tvalidation-rmse:0.739758\n",
      "\n",
      "[0]\ttrain-rmse:1.15863\tvalidation-rmse:1.116\n",
      "Multiple eval metrics have been passed: 'validation-rmse' will be used for early stopping.\n",
      "\n",
      "Will train until validation-rmse hasn't improved in 50 rounds.\n",
      "[50]\ttrain-rmse:0.762312\tvalidation-rmse:0.766696\n",
      "[100]\ttrain-rmse:0.736364\tvalidation-rmse:0.756591\n",
      "[150]\ttrain-rmse:0.724575\tvalidation-rmse:0.757187\n",
      "Stopping. Best iteration:\n",
      "[111]\ttrain-rmse:0.733133\tvalidation-rmse:0.756064\n",
      "\n"
     ]
    }
   ],
   "source": [
    "# Stacking\n",
    "X_train_new = X_train.copy()\n",
    "X_validation_new = X_validation.copy()\n",
    "X_test_new = X_test.copy()\n",
    "\n",
    "params1 = {\n",
    "        'eta': 0.08, #best 0.08\n",
    "        'max_depth': 7,\n",
    "        'objective': 'reg:linear',\n",
    "        'eval_metric': 'rmse',\n",
    "        'seed': 3,\n",
    "        'gamma':1,\n",
    "        'silent': True\n",
    "    }\n",
    "params2 = {\n",
    "        'eta': 0.08, #best 0.08\n",
    "        'max_depth': 8,\n",
    "        'objective': 'reg:linear',\n",
    "        'eval_metric': 'rmse',\n",
    "        'seed': 4,\n",
    "        'gamma':1,\n",
    "        'silent': True\n",
    "    }\n",
    "params3 = {\n",
    "        'eta': 0.08, #best 0.08\n",
    "        'max_depth': 6,\n",
    "        'objective': 'reg:linear',\n",
    "        'eval_metric': 'rmse',\n",
    "        'seed': 5,\n",
    "        'gamma':1,\n",
    "        'silent': True\n",
    "    }\n",
    "watchlist = [\n",
    "    (xgb.DMatrix(X_train, y_train), 'train'),\n",
    "    (xgb.DMatrix (X_validation, y_validation), 'validation')\n",
    "]\n",
    "for i, params in enumerate([params1, params2, params3]):\n",
    "    model = xgb.train(params, xgb.DMatrix(X_train, y_train,missing=-999), 500, \n",
    "                      watchlist, maximize=False, verbose_eval=50, \n",
    "                      early_stopping_rounds=50)\n",
    "    X_train_new['xgboost_item_cnt_month_'+str(i)] = model.predict(xgb.DMatrix(X_train),\n",
    "                                                                  ntree_limit=model.best_ntree_limit)\n",
    "    X_validation_new['xgboost_item_cnt_month_'+str(i)] = model.predict(xgb.DMatrix(X_validation),\n",
    "                                                                       ntree_limit=model.best_ntree_limit)\n",
    "    X_test_new['xgboost_item_cnt_month_'+str(i)] = model.predict(xgb.DMatrix(X_test), \n",
    "                                                                 ntree_limit=model.best_ntree_limit)"
   ]
  },
  {
   "cell_type": "code",
   "execution_count": 25,
   "metadata": {},
   "outputs": [
    {
     "name": "stdout",
     "output_type": "stream",
     "text": [
      "Training model 2\n",
      "Using 2 to predict\n",
      "Training model 3\n",
      "Using 3 to predict\n",
      "Training model 4\n",
      "Using 4 to predict\n"
     ]
    }
   ],
   "source": [
    "from sklearn.preprocessing import MinMaxScaler\n",
    "from sklearn.neighbors import KNeighborsRegressor\n",
    "from sklearn.model_selection import train_test_split\n",
    "X_train_sample, _, y_train_sample, __ = train_test_split(X_train, y_train, train_size=.05, random_state=10)\n",
    "scaler = MinMaxScaler()\n",
    "scaler.fit(X_train_sample)\n",
    "for k in (2, 3, 4):\n",
    "    print(\"Training model \"+str(k))\n",
    "    neigh = KNeighborsRegressor(n_neighbors=k, n_jobs=-1, algorithm='kd_tree')\n",
    "    neigh.fit(scaler.transform(X_train_sample), y_train_sample)\n",
    "    print(\"Using \"+str(k)+\" to predict\")\n",
    "    X_train_new[str(k)+'_neighbors'] = neigh.predict(scaler.transform(X_train))\n",
    "    X_validation_new[str(k)+'_neighbors'] = neigh.predict(scaler.transform(X_validation))\n",
    "    X_test_new[str(k)+'_neighbors'] = neigh.predict(scaler.transform(X_test))"
   ]
  },
  {
   "cell_type": "code",
   "execution_count": 26,
   "metadata": {},
   "outputs": [],
   "source": [
    "X_train = X_train_new\n",
    "X_validation = X_validation_new\n",
    "X_test = X_test_new"
   ]
  },
  {
   "cell_type": "code",
   "execution_count": 27,
   "metadata": {},
   "outputs": [
    {
     "name": "stdout",
     "output_type": "stream",
     "text": [
      "0.532745148051867\n"
     ]
    }
   ],
   "source": [
    "from sklearn.linear_model import Ridge\n",
    "model = Ridge(alpha=1, copy_X=True, normalize=True, max_iter=1000)\n",
    "model.fit(X_train, y_train)\n",
    "from sklearn.metrics import mean_squared_error\n",
    "print(mean_squared_error(y_validation, model.predict(X_validation)))"
   ]
  },
  {
   "cell_type": "code",
   "execution_count": 28,
   "metadata": {},
   "outputs": [
    {
     "data": {
      "text/html": [
       "<div>\n",
       "<style scoped>\n",
       "    .dataframe tbody tr th:only-of-type {\n",
       "        vertical-align: middle;\n",
       "    }\n",
       "\n",
       "    .dataframe tbody tr th {\n",
       "        vertical-align: top;\n",
       "    }\n",
       "\n",
       "    .dataframe thead th {\n",
       "        text-align: right;\n",
       "    }\n",
       "</style>\n",
       "<table border=\"1\" class=\"dataframe\">\n",
       "  <thead>\n",
       "    <tr style=\"text-align: right;\">\n",
       "      <th></th>\n",
       "      <th>ID</th>\n",
       "      <th>item_cnt_month</th>\n",
       "    </tr>\n",
       "  </thead>\n",
       "  <tbody>\n",
       "    <tr>\n",
       "      <th>0</th>\n",
       "      <td>0</td>\n",
       "      <td>0.5</td>\n",
       "    </tr>\n",
       "    <tr>\n",
       "      <th>1</th>\n",
       "      <td>1</td>\n",
       "      <td>0.5</td>\n",
       "    </tr>\n",
       "    <tr>\n",
       "      <th>2</th>\n",
       "      <td>2</td>\n",
       "      <td>0.5</td>\n",
       "    </tr>\n",
       "    <tr>\n",
       "      <th>3</th>\n",
       "      <td>3</td>\n",
       "      <td>0.5</td>\n",
       "    </tr>\n",
       "    <tr>\n",
       "      <th>4</th>\n",
       "      <td>4</td>\n",
       "      <td>0.5</td>\n",
       "    </tr>\n",
       "  </tbody>\n",
       "</table>\n",
       "</div>"
      ],
      "text/plain": [
       "   ID  item_cnt_month\n",
       "0   0             0.5\n",
       "1   1             0.5\n",
       "2   2             0.5\n",
       "3   3             0.5\n",
       "4   4             0.5"
      ]
     },
     "execution_count": 28,
     "metadata": {},
     "output_type": "execute_result"
    }
   ],
   "source": [
    "smpsb_df.head()"
   ]
  },
  {
   "cell_type": "code",
   "execution_count": 29,
   "metadata": {},
   "outputs": [],
   "source": [
    "pred = model.predict(X_test)"
   ]
  },
  {
   "cell_type": "code",
   "execution_count": 30,
   "metadata": {},
   "outputs": [],
   "source": [
    "smpsb_df['item_cnt_month']=pred.clip(0,40)"
   ]
  },
  {
   "cell_type": "code",
   "execution_count": 31,
   "metadata": {},
   "outputs": [
    {
     "data": {
      "text/html": [
       "<div>\n",
       "<style scoped>\n",
       "    .dataframe tbody tr th:only-of-type {\n",
       "        vertical-align: middle;\n",
       "    }\n",
       "\n",
       "    .dataframe tbody tr th {\n",
       "        vertical-align: top;\n",
       "    }\n",
       "\n",
       "    .dataframe thead th {\n",
       "        text-align: right;\n",
       "    }\n",
       "</style>\n",
       "<table border=\"1\" class=\"dataframe\">\n",
       "  <thead>\n",
       "    <tr style=\"text-align: right;\">\n",
       "      <th></th>\n",
       "      <th>ID</th>\n",
       "      <th>item_cnt_month</th>\n",
       "    </tr>\n",
       "  </thead>\n",
       "  <tbody>\n",
       "    <tr>\n",
       "      <th>0</th>\n",
       "      <td>0</td>\n",
       "      <td>0.746847</td>\n",
       "    </tr>\n",
       "    <tr>\n",
       "      <th>1</th>\n",
       "      <td>1</td>\n",
       "      <td>0.287258</td>\n",
       "    </tr>\n",
       "    <tr>\n",
       "      <th>2</th>\n",
       "      <td>2</td>\n",
       "      <td>1.030575</td>\n",
       "    </tr>\n",
       "    <tr>\n",
       "      <th>3</th>\n",
       "      <td>3</td>\n",
       "      <td>0.204061</td>\n",
       "    </tr>\n",
       "    <tr>\n",
       "      <th>4</th>\n",
       "      <td>4</td>\n",
       "      <td>0.075939</td>\n",
       "    </tr>\n",
       "  </tbody>\n",
       "</table>\n",
       "</div>"
      ],
      "text/plain": [
       "   ID  item_cnt_month\n",
       "0   0        0.746847\n",
       "1   1        0.287258\n",
       "2   2        1.030575\n",
       "3   3        0.204061\n",
       "4   4        0.075939"
      ]
     },
     "execution_count": 31,
     "metadata": {},
     "output_type": "execute_result"
    }
   ],
   "source": [
    "smpsb_df.head()"
   ]
  },
  {
   "cell_type": "code",
   "execution_count": 32,
   "metadata": {},
   "outputs": [],
   "source": [
    "smpsb_df.to_csv('/home/kostya/.kaggle/submission_stack.csv',index=False)"
   ]
  },
  {
   "cell_type": "code",
   "execution_count": 34,
   "metadata": {},
   "outputs": [
    {
     "name": "stdout",
     "output_type": "stream",
     "text": [
      "Traceback (most recent call last):\r\n",
      "  File \"/home/kostya/anaconda3/bin/kaggle\", line 11, in <module>\r\n",
      "    sys.exit(main())\r\n",
      "  File \"/home/kostya/anaconda3/lib/python3.5/site-packages/kaggle/cli.py\", line 48, in main\r\n",
      "    out = args.func(**command_args)\r\n",
      "  File \"/home/kostya/anaconda3/lib/python3.5/site-packages/kaggle/api/kaggle_api_extended.py\", line 221, in competition_submit_cli\r\n",
      "    submit_result = self.competition_submit(file_name, message, competition, quiet)\r\n",
      "  File \"/home/kostya/anaconda3/lib/python3.5/site-packages/kaggle/api/kaggle_api_extended.py\", line 202, in competition_submit\r\n",
      "    content_length=os.path.getsize(file_name),\r\n",
      "  File \"/home/kostya/anaconda3/lib/python3.5/genericpath.py\", line 50, in getsize\r\n",
      "    return os.stat(filename).st_size\r\n",
      "FileNotFoundError: [Errno 2] No such file or directory: 'submission_stack.csv'\r\n"
     ]
    }
   ],
   "source": [
    "!kaggle competitions submit -c competitive-data-science-predict-future-sales -f submission_stack.csv -m \"3XGB+KNN+Ridge\""
   ]
  }
 ],
 "metadata": {
  "kernelspec": {
   "display_name": "Python 3",
   "language": "python",
   "name": "python3"
  },
  "language_info": {
   "codemirror_mode": {
    "name": "ipython",
    "version": 3
   },
   "file_extension": ".py",
   "mimetype": "text/x-python",
   "name": "python",
   "nbconvert_exporter": "python",
   "pygments_lexer": "ipython3",
   "version": "3.6.5"
  }
 },
 "nbformat": 4,
 "nbformat_minor": 2
}
